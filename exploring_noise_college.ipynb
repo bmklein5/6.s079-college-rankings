{
  "nbformat": 4,
  "nbformat_minor": 0,
  "metadata": {
    "colab": {
      "provenance": []
    },
    "kernelspec": {
      "name": "python3",
      "display_name": "Python 3"
    },
    "language_info": {
      "name": "python"
    }
  },
  "cells": [
    {
      "cell_type": "code",
      "execution_count": 1,
      "metadata": {
        "id": "z6k7wCl4kEPE"
      },
      "outputs": [],
      "source": [
        "import pandas as pd\n",
        "import numpy as np"
      ]
    },
    {
      "cell_type": "code",
      "source": [
        "from google.colab import drive\n",
        "drive.mount('/content/drive/')\n",
        "\n",
        "US_NEWS_2020_PATH = \"/content/drive/MyDrive/6.S079_Project/data/us_news_2020.csv\"\n",
        "US_NEWS_2019_PATH = \"/content/drive/MyDrive/6.S079_Project/data/us_news_2019.csv\"\n",
        "\n",
        "WEIGHTS_2019_PATH = \"/content/drive/MyDrive/6.S079_Project/data/2019_weights.csv\"\n",
        "WEIGHTS_2020_PATH = \"/content/drive/MyDrive/6.S079_Project/data/2020_weights.csv\"\n",
        "\n",
        "act_percentiles_2020 = {36: 100, 35: 99, 34: 99, 33: 97, 32: 96, 31: 94, 30: 92, 29: 90, 28: 88, 27: 85, 26: 82, 25: 78, 24: 74, 23: 70, 22: 65, 21: 60, 20: 54, 19: 48, 18: 42, 17: 36, 16: 30, 15: 24, 14: 17, 13: 11, 12: 6, 11: 2, 10: 1, 9: 1, 8: 1, 7: 1, 6: 1, 5: 1, 4: 1, 3: 1, 2: 1, 1: 1}\n",
        "\n",
        "sat_percentiles_2020 = {1600: 100, 1590: 100, 1580: 100, 1570: 100, 1560: 100, 1550: 99, 1540: 99, 1530: 99, 1520: 99, 1510: 98, 1500: 98, 1490: 98, 1480: 97, 1470: 97, 1460: 97, 1450: 96, 1440: 96, 1430: 95, 1420: 95, 1410: 94, 1400: 94, 1390: 93, 1380: 92, 1370: 92, 1360: 91, 1350: 90, 1340: 89, 1330: 89, 1320: 88, 1310: 87, 1300: 86, 1290: 85, 1280: 84, 1270: 83, 1260: 82, 1250: 81, 1240: 80, 1230: 78, 1220: 77, 1210: 76, 1200: 74, 1190: 73, 1180: 72, 1170: 70, 1160: 69, 1150: 67, 1140: 66, 1130: 64, 1120: 62, 1110: 61, 1100: 59, 1090: 57, 1080: 55, 1070: 54, 1060: 52, 1050: 50, 1040: 48, 1030: 46, 1020: 45, 1010: 43, 1000: 41, 990: 39, 980: 38, 970: 36, 960: 34, 950: 33, 940: 31, 930: 29, 920: 28, 910: 26, 900: 25, 890: 23, 880: 22, 870: 20, 860: 19, 850: 18, 840: 16, 830: 15, 820: 14, 810: 12, 800: 11, 790: 10, 780: 9, 770: 8, 760: 7, 750: 6, 740: 5, 730: 5, 720: 4, 710: 3, 700: 3, 690: 2, 680: 2, 670: 1, 660: 1, 650: 1, 640: 1, 630: 1, 620: 1, 610: 1, 600: 1}\n"
      ],
      "metadata": {
        "colab": {
          "base_uri": "https://localhost:8080/"
        },
        "id": "AKlU3T5kyBIs",
        "outputId": "2ea26818-3741-41f2-9636-a43255249607"
      },
      "execution_count": 2,
      "outputs": [
        {
          "output_type": "stream",
          "name": "stdout",
          "text": [
            "Mounted at /content/drive/\n"
          ]
        }
      ]
    },
    {
      "cell_type": "markdown",
      "source": [],
      "metadata": {
        "id": "vsbm7d3l-jM9"
      }
    },
    {
      "cell_type": "code",
      "source": [
        "# us_news_2019 = pd.read_csv(US_NEWS_2019_PATH)\n",
        "# weights_2019 = pd.read_csv(WEIGHTS_2019_PATH)\n",
        "\n",
        "\n",
        "us_news_2020 = pd.read_csv(US_NEWS_2020_PATH)\n",
        "weights_2020 = pd.read_csv(WEIGHTS_2020_PATH)"
      ],
      "metadata": {
        "id": "WHcRREwDyzSD"
      },
      "execution_count": 3,
      "outputs": []
    },
    {
      "cell_type": "code",
      "source": [
        "from google.colab import drive\n",
        "drive.mount('/content/drive')"
      ],
      "metadata": {
        "colab": {
          "base_uri": "https://localhost:8080/"
        },
        "id": "hkf7-W3W-POo",
        "outputId": "dd66cbd7-9922-4cf0-e7fd-3332c87bc4e1"
      },
      "execution_count": 4,
      "outputs": [
        {
          "output_type": "stream",
          "name": "stdout",
          "text": [
            "Drive already mounted at /content/drive; to attempt to forcibly remount, call drive.mount(\"/content/drive\", force_remount=True).\n"
          ]
        }
      ]
    },
    {
      "cell_type": "code",
      "source": [
        "clean_dict = {\n",
        "    '2020 Rank': ['rank', 'int'],\n",
        "    'School' : ['school', 'str'],\n",
        "    'Overall Score': ['score', 'int'],\n",
        "    'Peer Assessment Score': ['peer_score', 'float64'],\n",
        "    'Graduation and retention rank': ['graduation_retention_rank', 'int'],\n",
        "    # 'Average first year retention rate': ['freshman_retention', 'pct'],           EMBODIED BY 'Graduation and retention rank'\n",
        "    'Over/Underperformance': ['graduation_diff', 'int'],\n",
        "    # 'Pell Gradrate': ['pell_gradrate', 'pct'],                                    EMBODIED BY 'Social Mobility Rank'\n",
        "    'Social Mobility Rank': ['social_mobility_rank', 'int'],\n",
        "    'Faculty resources rank': ['faculty_resources_rank', 'int'],\n",
        "    # 'Percent of classes under 20': ['small_class_pct', 'pct'],                    EMBODIED BY 'Faculty resources rank'\n",
        "    # 'Percent of classes of 50 or more students': ['large_class_pct', 'pct'],      EMBODIED BY 'Faculty resources rank'\n",
        "    # 'Student/faculty ratio': ['student_faculty_ratio', 'ratio'],                  EMBODIED BY 'Faculty resources rank'\n",
        "    # 'Selectivity rank': ['selectivity_rank', 'int'],                              EMBODIED BY 'Faculty resources rank'\n",
        "    'SAT/ACT 25th-75th percentile': ['test_scores', 'range'],\n",
        "    'First year students in top 10% of high school class': ['accomplished_freshman', 'pct'],\n",
        "    # 'Acceptance rate': ['acceptance_rate', 'pct'],                                NOT IN CRITERIA\n",
        "    'Financial resources rank': ['financial_resources_rank', 'int'],\n",
        "    'Average alumni giving rate': ['alum_giving_rate', 'pct'],\n",
        "}"
      ],
      "metadata": {
        "id": "Gi954EbPyoHx"
      },
      "execution_count": 5,
      "outputs": []
    },
    {
      "cell_type": "code",
      "source": [
        "def ratio_converter(ratio_str):\n",
        "  numerator, denominator = map(float, ratio_str.split(' to '))\n",
        "  return numerator / denominator if denominator != 0 else None\n",
        "\n",
        "def range_converter(range_str):\n",
        "  if type(range_str) == str:\n",
        "    bottom, top = map(float, range_str.split('-'))\n",
        "    # converts the top and bottom range to the ACT/SAT Percentiles for the year 2020\n",
        "    if top <= 36:\n",
        "      bottom = act_percentiles_2020[bottom]\n",
        "      top = act_percentiles_2020[top]\n",
        "    else:\n",
        "      bottom = sat_percentiles_2020[round(bottom, -1)]\n",
        "      top = sat_percentiles_2020[round(top, -1)]\n",
        "    return (bottom + top)/2\n",
        "  else: # in case of 'nan' values\n",
        "     return range_str\n",
        "\n",
        "def rank_converter(df, col):\n",
        "  max_rank = df[col].max()\n",
        "  df[col] = (max_rank + 1 - df[col]) / max_rank\n",
        "  return df\n",
        "\n",
        "def clean_2020_data(df, trans_dic):\n",
        "  for col in df.columns:\n",
        "    # print(col)\n",
        "    try:\n",
        "      _name, _type = trans_dic[col]\n",
        "      df = df.rename(columns={col: _name})\n",
        "      if _type in ['int', 'float64']:\n",
        "        df[_name] = pd.to_numeric(df[_name], errors='coerce')\n",
        "      elif _type == 'str':\n",
        "        df[_name] = df[_name].astype('str')\n",
        "      elif _type == 'pct':\n",
        "        df[_name] = df[_name].str.rstrip('%').astype(float) / 100\n",
        "      elif _type == 'ratio':\n",
        "        df[_name] = df[_name].apply(ratio_converter)\n",
        "      elif _type == 'range':\n",
        "        df[_name] = df[_name].apply(range_converter)\n",
        "    except:\n",
        "      df = df.drop(columns=col)\n",
        "\n",
        "  #==========================================\n",
        "  # CONTEXT DEPENDENT (i.e 2020) TRANSFORMATIONS\n",
        "  #==========================================\n",
        "  # 'NaN' represents a difference of 0\n",
        "  df['graduation_diff'] = df['graduation_diff'].fillna(0)\n",
        "\n",
        "  # adjust and normalize ranks\n",
        "  # df['social_mobility_rank'] = df['social_mobility_rank'].apply(lambda v: (max(df.social_mobility_rank) + 1 - v)/max(df.social_mobility_rank))\n",
        "  # df['faculty_resources_rank'] = df['faculty_resources_rank'].apply(lambda v: (max(df.faculty_resources_rank) + 1 - v)/max(df.faculty_resources_rank))\n",
        "\n",
        "  df = rank_converter(df, 'social_mobility_rank')\n",
        "  df = rank_converter(df, 'faculty_resources_rank')\n",
        "  df = rank_converter(df, 'graduation_retention_rank')\n",
        "\n",
        "  #==========================================\n",
        "\n",
        "  return df"
      ],
      "metadata": {
        "id": "GDGOvaaOr2mJ"
      },
      "execution_count": 6,
      "outputs": []
    },
    {
      "cell_type": "code",
      "source": [
        "clean_2020_df = clean_2020_data(us_news_2020, clean_dict)\n",
        "display(clean_2020_df)"
      ],
      "metadata": {
        "id": "UbtPr0Hj5igp",
        "colab": {
          "base_uri": "https://localhost:8080/",
          "height": 721
        },
        "outputId": "ae6cb3d5-c2f2-47b5-9cd6-f2abf5d53261"
      },
      "execution_count": 7,
      "outputs": [
        {
          "output_type": "display_data",
          "data": {
            "text/plain": [
              "     rank                                 school  score  peer_score  \\\n",
              "0       1              Princeton University (NJ)    100         4.9   \n",
              "1       2                Harvard University (MA)     96         4.9   \n",
              "2       3               Columbia University (NY)     94         4.7   \n",
              "3       3  Massachusetts Institute of Technology     94         4.9   \n",
              "4       3                   Yale University (CT)     94         4.8   \n",
              "..    ...                                    ...    ...         ...   \n",
              "287   281      Sam Houston State University (TX)     27         2.2   \n",
              "288   281           Univ. of Missouri--St. Louis     27         2.4   \n",
              "289   281            University of North Florida     27         2.4   \n",
              "290   281              University of North Texas     27         2.6   \n",
              "291   281          William Carey University (MS)     27         1.8   \n",
              "\n",
              "     graduation_retention_rank  graduation_diff  social_mobility_rank  \\\n",
              "0                     0.997118              1.0              0.514436   \n",
              "1                     0.997118              1.0              0.514436   \n",
              "2                     0.991354              2.0              0.640420   \n",
              "3                     0.974063             -1.0              0.370079   \n",
              "4                     1.000000              0.0              0.254593   \n",
              "..                         ...              ...                   ...   \n",
              "287                   0.201729              6.0              0.782152   \n",
              "288                   0.187320            -11.0              0.750656   \n",
              "289                   0.340058             -2.0              0.700787   \n",
              "290                   0.250720              0.0              0.750656   \n",
              "291                   0.265130              0.0              0.874016   \n",
              "\n",
              "     faculty_resources_rank  test_scores  accomplished_freshman  \\\n",
              "0                  0.984252         98.0                   0.91   \n",
              "1                  0.986877         98.5                   0.94   \n",
              "2                  0.994751         98.0                   0.96   \n",
              "3                  0.979003         99.0                   0.97   \n",
              "4                  0.973753         98.0                   0.95   \n",
              "..                      ...          ...                    ...   \n",
              "287                0.162730         53.5                   0.19   \n",
              "288                0.267717         72.5                   0.26   \n",
              "289                0.052493         73.0                   0.16   \n",
              "290                0.052493         67.0                   0.19   \n",
              "291                0.687664         75.0                   0.27   \n",
              "\n",
              "     financial_resources_rank  alum_giving_rate  \n",
              "0                          12              0.59  \n",
              "1                           8              0.31  \n",
              "2                          13              0.30  \n",
              "3                           2              0.33  \n",
              "4                           1              0.27  \n",
              "..                        ...               ...  \n",
              "287                       365              0.07  \n",
              "288                       294              0.04  \n",
              "289                       339              0.04  \n",
              "290                       376              0.04  \n",
              "291                       375              0.05  \n",
              "\n",
              "[292 rows x 12 columns]"
            ],
            "text/html": [
              "\n",
              "  <div id=\"df-ebd04f6a-3867-46ef-aeab-4eeb62c7e857\" class=\"colab-df-container\">\n",
              "    <div>\n",
              "<style scoped>\n",
              "    .dataframe tbody tr th:only-of-type {\n",
              "        vertical-align: middle;\n",
              "    }\n",
              "\n",
              "    .dataframe tbody tr th {\n",
              "        vertical-align: top;\n",
              "    }\n",
              "\n",
              "    .dataframe thead th {\n",
              "        text-align: right;\n",
              "    }\n",
              "</style>\n",
              "<table border=\"1\" class=\"dataframe\">\n",
              "  <thead>\n",
              "    <tr style=\"text-align: right;\">\n",
              "      <th></th>\n",
              "      <th>rank</th>\n",
              "      <th>school</th>\n",
              "      <th>score</th>\n",
              "      <th>peer_score</th>\n",
              "      <th>graduation_retention_rank</th>\n",
              "      <th>graduation_diff</th>\n",
              "      <th>social_mobility_rank</th>\n",
              "      <th>faculty_resources_rank</th>\n",
              "      <th>test_scores</th>\n",
              "      <th>accomplished_freshman</th>\n",
              "      <th>financial_resources_rank</th>\n",
              "      <th>alum_giving_rate</th>\n",
              "    </tr>\n",
              "  </thead>\n",
              "  <tbody>\n",
              "    <tr>\n",
              "      <th>0</th>\n",
              "      <td>1</td>\n",
              "      <td>Princeton University (NJ)</td>\n",
              "      <td>100</td>\n",
              "      <td>4.9</td>\n",
              "      <td>0.997118</td>\n",
              "      <td>1.0</td>\n",
              "      <td>0.514436</td>\n",
              "      <td>0.984252</td>\n",
              "      <td>98.0</td>\n",
              "      <td>0.91</td>\n",
              "      <td>12</td>\n",
              "      <td>0.59</td>\n",
              "    </tr>\n",
              "    <tr>\n",
              "      <th>1</th>\n",
              "      <td>2</td>\n",
              "      <td>Harvard University (MA)</td>\n",
              "      <td>96</td>\n",
              "      <td>4.9</td>\n",
              "      <td>0.997118</td>\n",
              "      <td>1.0</td>\n",
              "      <td>0.514436</td>\n",
              "      <td>0.986877</td>\n",
              "      <td>98.5</td>\n",
              "      <td>0.94</td>\n",
              "      <td>8</td>\n",
              "      <td>0.31</td>\n",
              "    </tr>\n",
              "    <tr>\n",
              "      <th>2</th>\n",
              "      <td>3</td>\n",
              "      <td>Columbia University (NY)</td>\n",
              "      <td>94</td>\n",
              "      <td>4.7</td>\n",
              "      <td>0.991354</td>\n",
              "      <td>2.0</td>\n",
              "      <td>0.640420</td>\n",
              "      <td>0.994751</td>\n",
              "      <td>98.0</td>\n",
              "      <td>0.96</td>\n",
              "      <td>13</td>\n",
              "      <td>0.30</td>\n",
              "    </tr>\n",
              "    <tr>\n",
              "      <th>3</th>\n",
              "      <td>3</td>\n",
              "      <td>Massachusetts Institute of Technology</td>\n",
              "      <td>94</td>\n",
              "      <td>4.9</td>\n",
              "      <td>0.974063</td>\n",
              "      <td>-1.0</td>\n",
              "      <td>0.370079</td>\n",
              "      <td>0.979003</td>\n",
              "      <td>99.0</td>\n",
              "      <td>0.97</td>\n",
              "      <td>2</td>\n",
              "      <td>0.33</td>\n",
              "    </tr>\n",
              "    <tr>\n",
              "      <th>4</th>\n",
              "      <td>3</td>\n",
              "      <td>Yale University (CT)</td>\n",
              "      <td>94</td>\n",
              "      <td>4.8</td>\n",
              "      <td>1.000000</td>\n",
              "      <td>0.0</td>\n",
              "      <td>0.254593</td>\n",
              "      <td>0.973753</td>\n",
              "      <td>98.0</td>\n",
              "      <td>0.95</td>\n",
              "      <td>1</td>\n",
              "      <td>0.27</td>\n",
              "    </tr>\n",
              "    <tr>\n",
              "      <th>...</th>\n",
              "      <td>...</td>\n",
              "      <td>...</td>\n",
              "      <td>...</td>\n",
              "      <td>...</td>\n",
              "      <td>...</td>\n",
              "      <td>...</td>\n",
              "      <td>...</td>\n",
              "      <td>...</td>\n",
              "      <td>...</td>\n",
              "      <td>...</td>\n",
              "      <td>...</td>\n",
              "      <td>...</td>\n",
              "    </tr>\n",
              "    <tr>\n",
              "      <th>287</th>\n",
              "      <td>281</td>\n",
              "      <td>Sam Houston State University (TX)</td>\n",
              "      <td>27</td>\n",
              "      <td>2.2</td>\n",
              "      <td>0.201729</td>\n",
              "      <td>6.0</td>\n",
              "      <td>0.782152</td>\n",
              "      <td>0.162730</td>\n",
              "      <td>53.5</td>\n",
              "      <td>0.19</td>\n",
              "      <td>365</td>\n",
              "      <td>0.07</td>\n",
              "    </tr>\n",
              "    <tr>\n",
              "      <th>288</th>\n",
              "      <td>281</td>\n",
              "      <td>Univ. of Missouri--St. Louis</td>\n",
              "      <td>27</td>\n",
              "      <td>2.4</td>\n",
              "      <td>0.187320</td>\n",
              "      <td>-11.0</td>\n",
              "      <td>0.750656</td>\n",
              "      <td>0.267717</td>\n",
              "      <td>72.5</td>\n",
              "      <td>0.26</td>\n",
              "      <td>294</td>\n",
              "      <td>0.04</td>\n",
              "    </tr>\n",
              "    <tr>\n",
              "      <th>289</th>\n",
              "      <td>281</td>\n",
              "      <td>University of North Florida</td>\n",
              "      <td>27</td>\n",
              "      <td>2.4</td>\n",
              "      <td>0.340058</td>\n",
              "      <td>-2.0</td>\n",
              "      <td>0.700787</td>\n",
              "      <td>0.052493</td>\n",
              "      <td>73.0</td>\n",
              "      <td>0.16</td>\n",
              "      <td>339</td>\n",
              "      <td>0.04</td>\n",
              "    </tr>\n",
              "    <tr>\n",
              "      <th>290</th>\n",
              "      <td>281</td>\n",
              "      <td>University of North Texas</td>\n",
              "      <td>27</td>\n",
              "      <td>2.6</td>\n",
              "      <td>0.250720</td>\n",
              "      <td>0.0</td>\n",
              "      <td>0.750656</td>\n",
              "      <td>0.052493</td>\n",
              "      <td>67.0</td>\n",
              "      <td>0.19</td>\n",
              "      <td>376</td>\n",
              "      <td>0.04</td>\n",
              "    </tr>\n",
              "    <tr>\n",
              "      <th>291</th>\n",
              "      <td>281</td>\n",
              "      <td>William Carey University (MS)</td>\n",
              "      <td>27</td>\n",
              "      <td>1.8</td>\n",
              "      <td>0.265130</td>\n",
              "      <td>0.0</td>\n",
              "      <td>0.874016</td>\n",
              "      <td>0.687664</td>\n",
              "      <td>75.0</td>\n",
              "      <td>0.27</td>\n",
              "      <td>375</td>\n",
              "      <td>0.05</td>\n",
              "    </tr>\n",
              "  </tbody>\n",
              "</table>\n",
              "<p>292 rows × 12 columns</p>\n",
              "</div>\n",
              "    <div class=\"colab-df-buttons\">\n",
              "\n",
              "  <div class=\"colab-df-container\">\n",
              "    <button class=\"colab-df-convert\" onclick=\"convertToInteractive('df-ebd04f6a-3867-46ef-aeab-4eeb62c7e857')\"\n",
              "            title=\"Convert this dataframe to an interactive table.\"\n",
              "            style=\"display:none;\">\n",
              "\n",
              "  <svg xmlns=\"http://www.w3.org/2000/svg\" height=\"24px\" viewBox=\"0 -960 960 960\">\n",
              "    <path d=\"M120-120v-720h720v720H120Zm60-500h600v-160H180v160Zm220 220h160v-160H400v160Zm0 220h160v-160H400v160ZM180-400h160v-160H180v160Zm440 0h160v-160H620v160ZM180-180h160v-160H180v160Zm440 0h160v-160H620v160Z\"/>\n",
              "  </svg>\n",
              "    </button>\n",
              "\n",
              "  <style>\n",
              "    .colab-df-container {\n",
              "      display:flex;\n",
              "      gap: 12px;\n",
              "    }\n",
              "\n",
              "    .colab-df-convert {\n",
              "      background-color: #E8F0FE;\n",
              "      border: none;\n",
              "      border-radius: 50%;\n",
              "      cursor: pointer;\n",
              "      display: none;\n",
              "      fill: #1967D2;\n",
              "      height: 32px;\n",
              "      padding: 0 0 0 0;\n",
              "      width: 32px;\n",
              "    }\n",
              "\n",
              "    .colab-df-convert:hover {\n",
              "      background-color: #E2EBFA;\n",
              "      box-shadow: 0px 1px 2px rgba(60, 64, 67, 0.3), 0px 1px 3px 1px rgba(60, 64, 67, 0.15);\n",
              "      fill: #174EA6;\n",
              "    }\n",
              "\n",
              "    .colab-df-buttons div {\n",
              "      margin-bottom: 4px;\n",
              "    }\n",
              "\n",
              "    [theme=dark] .colab-df-convert {\n",
              "      background-color: #3B4455;\n",
              "      fill: #D2E3FC;\n",
              "    }\n",
              "\n",
              "    [theme=dark] .colab-df-convert:hover {\n",
              "      background-color: #434B5C;\n",
              "      box-shadow: 0px 1px 3px 1px rgba(0, 0, 0, 0.15);\n",
              "      filter: drop-shadow(0px 1px 2px rgba(0, 0, 0, 0.3));\n",
              "      fill: #FFFFFF;\n",
              "    }\n",
              "  </style>\n",
              "\n",
              "    <script>\n",
              "      const buttonEl =\n",
              "        document.querySelector('#df-ebd04f6a-3867-46ef-aeab-4eeb62c7e857 button.colab-df-convert');\n",
              "      buttonEl.style.display =\n",
              "        google.colab.kernel.accessAllowed ? 'block' : 'none';\n",
              "\n",
              "      async function convertToInteractive(key) {\n",
              "        const element = document.querySelector('#df-ebd04f6a-3867-46ef-aeab-4eeb62c7e857');\n",
              "        const dataTable =\n",
              "          await google.colab.kernel.invokeFunction('convertToInteractive',\n",
              "                                                    [key], {});\n",
              "        if (!dataTable) return;\n",
              "\n",
              "        const docLinkHtml = 'Like what you see? Visit the ' +\n",
              "          '<a target=\"_blank\" href=https://colab.research.google.com/notebooks/data_table.ipynb>data table notebook</a>'\n",
              "          + ' to learn more about interactive tables.';\n",
              "        element.innerHTML = '';\n",
              "        dataTable['output_type'] = 'display_data';\n",
              "        await google.colab.output.renderOutput(dataTable, element);\n",
              "        const docLink = document.createElement('div');\n",
              "        docLink.innerHTML = docLinkHtml;\n",
              "        element.appendChild(docLink);\n",
              "      }\n",
              "    </script>\n",
              "  </div>\n",
              "\n",
              "\n",
              "<div id=\"df-686f5376-8fce-4cfd-b85c-151882e04c42\">\n",
              "  <button class=\"colab-df-quickchart\" onclick=\"quickchart('df-686f5376-8fce-4cfd-b85c-151882e04c42')\"\n",
              "            title=\"Suggest charts\"\n",
              "            style=\"display:none;\">\n",
              "\n",
              "<svg xmlns=\"http://www.w3.org/2000/svg\" height=\"24px\"viewBox=\"0 0 24 24\"\n",
              "     width=\"24px\">\n",
              "    <g>\n",
              "        <path d=\"M19 3H5c-1.1 0-2 .9-2 2v14c0 1.1.9 2 2 2h14c1.1 0 2-.9 2-2V5c0-1.1-.9-2-2-2zM9 17H7v-7h2v7zm4 0h-2V7h2v10zm4 0h-2v-4h2v4z\"/>\n",
              "    </g>\n",
              "</svg>\n",
              "  </button>\n",
              "\n",
              "<style>\n",
              "  .colab-df-quickchart {\n",
              "      --bg-color: #E8F0FE;\n",
              "      --fill-color: #1967D2;\n",
              "      --hover-bg-color: #E2EBFA;\n",
              "      --hover-fill-color: #174EA6;\n",
              "      --disabled-fill-color: #AAA;\n",
              "      --disabled-bg-color: #DDD;\n",
              "  }\n",
              "\n",
              "  [theme=dark] .colab-df-quickchart {\n",
              "      --bg-color: #3B4455;\n",
              "      --fill-color: #D2E3FC;\n",
              "      --hover-bg-color: #434B5C;\n",
              "      --hover-fill-color: #FFFFFF;\n",
              "      --disabled-bg-color: #3B4455;\n",
              "      --disabled-fill-color: #666;\n",
              "  }\n",
              "\n",
              "  .colab-df-quickchart {\n",
              "    background-color: var(--bg-color);\n",
              "    border: none;\n",
              "    border-radius: 50%;\n",
              "    cursor: pointer;\n",
              "    display: none;\n",
              "    fill: var(--fill-color);\n",
              "    height: 32px;\n",
              "    padding: 0;\n",
              "    width: 32px;\n",
              "  }\n",
              "\n",
              "  .colab-df-quickchart:hover {\n",
              "    background-color: var(--hover-bg-color);\n",
              "    box-shadow: 0 1px 2px rgba(60, 64, 67, 0.3), 0 1px 3px 1px rgba(60, 64, 67, 0.15);\n",
              "    fill: var(--button-hover-fill-color);\n",
              "  }\n",
              "\n",
              "  .colab-df-quickchart-complete:disabled,\n",
              "  .colab-df-quickchart-complete:disabled:hover {\n",
              "    background-color: var(--disabled-bg-color);\n",
              "    fill: var(--disabled-fill-color);\n",
              "    box-shadow: none;\n",
              "  }\n",
              "\n",
              "  .colab-df-spinner {\n",
              "    border: 2px solid var(--fill-color);\n",
              "    border-color: transparent;\n",
              "    border-bottom-color: var(--fill-color);\n",
              "    animation:\n",
              "      spin 1s steps(1) infinite;\n",
              "  }\n",
              "\n",
              "  @keyframes spin {\n",
              "    0% {\n",
              "      border-color: transparent;\n",
              "      border-bottom-color: var(--fill-color);\n",
              "      border-left-color: var(--fill-color);\n",
              "    }\n",
              "    20% {\n",
              "      border-color: transparent;\n",
              "      border-left-color: var(--fill-color);\n",
              "      border-top-color: var(--fill-color);\n",
              "    }\n",
              "    30% {\n",
              "      border-color: transparent;\n",
              "      border-left-color: var(--fill-color);\n",
              "      border-top-color: var(--fill-color);\n",
              "      border-right-color: var(--fill-color);\n",
              "    }\n",
              "    40% {\n",
              "      border-color: transparent;\n",
              "      border-right-color: var(--fill-color);\n",
              "      border-top-color: var(--fill-color);\n",
              "    }\n",
              "    60% {\n",
              "      border-color: transparent;\n",
              "      border-right-color: var(--fill-color);\n",
              "    }\n",
              "    80% {\n",
              "      border-color: transparent;\n",
              "      border-right-color: var(--fill-color);\n",
              "      border-bottom-color: var(--fill-color);\n",
              "    }\n",
              "    90% {\n",
              "      border-color: transparent;\n",
              "      border-bottom-color: var(--fill-color);\n",
              "    }\n",
              "  }\n",
              "</style>\n",
              "\n",
              "  <script>\n",
              "    async function quickchart(key) {\n",
              "      const quickchartButtonEl =\n",
              "        document.querySelector('#' + key + ' button');\n",
              "      quickchartButtonEl.disabled = true;  // To prevent multiple clicks.\n",
              "      quickchartButtonEl.classList.add('colab-df-spinner');\n",
              "      try {\n",
              "        const charts = await google.colab.kernel.invokeFunction(\n",
              "            'suggestCharts', [key], {});\n",
              "      } catch (error) {\n",
              "        console.error('Error during call to suggestCharts:', error);\n",
              "      }\n",
              "      quickchartButtonEl.classList.remove('colab-df-spinner');\n",
              "      quickchartButtonEl.classList.add('colab-df-quickchart-complete');\n",
              "    }\n",
              "    (() => {\n",
              "      let quickchartButtonEl =\n",
              "        document.querySelector('#df-686f5376-8fce-4cfd-b85c-151882e04c42 button');\n",
              "      quickchartButtonEl.style.display =\n",
              "        google.colab.kernel.accessAllowed ? 'block' : 'none';\n",
              "    })();\n",
              "  </script>\n",
              "</div>\n",
              "    </div>\n",
              "  </div>\n"
            ],
            "application/vnd.google.colaboratory.intrinsic+json": {
              "type": "dataframe",
              "variable_name": "clean_2020_df",
              "summary": "{\n  \"name\": \"clean_2020_df\",\n  \"rows\": 292,\n  \"fields\": [\n    {\n      \"column\": \"rank\",\n      \"properties\": {\n        \"dtype\": \"number\",\n        \"std\": 83,\n        \"min\": 1,\n        \"max\": 281,\n        \"num_unique_values\": 63,\n        \"samples\": [\n          272,\n          240,\n          1\n        ],\n        \"semantic_type\": \"\",\n        \"description\": \"\"\n      }\n    },\n    {\n      \"column\": \"school\",\n      \"properties\": {\n        \"dtype\": \"string\",\n        \"num_unique_values\": 292,\n        \"samples\": [\n          \"Elon University (NC)\",\n          \"University of Montana\",\n          \"Univ. of Wisconsin--Madison\"\n        ],\n        \"semantic_type\": \"\",\n        \"description\": \"\"\n      }\n    },\n    {\n      \"column\": \"score\",\n      \"properties\": {\n        \"dtype\": \"number\",\n        \"std\": 17,\n        \"min\": 27,\n        \"max\": 100,\n        \"num_unique_values\": 63,\n        \"samples\": [\n          28,\n          32,\n          100\n        ],\n        \"semantic_type\": \"\",\n        \"description\": \"\"\n      }\n    },\n    {\n      \"column\": \"peer_score\",\n      \"properties\": {\n        \"dtype\": \"number\",\n        \"std\": 0.7336711208451063,\n        \"min\": 1.6,\n        \"max\": 4.9,\n        \"num_unique_values\": 34,\n        \"samples\": [\n          3.4,\n          2.9,\n          2.2\n        ],\n        \"semantic_type\": \"\",\n        \"description\": \"\"\n      }\n    },\n    {\n      \"column\": \"graduation_retention_rank\",\n      \"properties\": {\n        \"dtype\": \"number\",\n        \"std\": 0.255222168293061,\n        \"min\": 0.002881844380403458,\n        \"max\": 1.0,\n        \"num_unique_values\": 66,\n        \"samples\": [\n          0.1873198847262248,\n          0.002881844380403458,\n          0.9971181556195965\n        ],\n        \"semantic_type\": \"\",\n        \"description\": \"\"\n      }\n    },\n    {\n      \"column\": \"graduation_diff\",\n      \"properties\": {\n        \"dtype\": \"number\",\n        \"std\": 6.210700479971125,\n        \"min\": -15.0,\n        \"max\": 23.0,\n        \"num_unique_values\": 34,\n        \"samples\": [\n          7.0,\n          12.0,\n          -8.0\n        ],\n        \"semantic_type\": \"\",\n        \"description\": \"\"\n      }\n    },\n    {\n      \"column\": \"social_mobility_rank\",\n      \"properties\": {\n        \"dtype\": \"number\",\n        \"std\": 0.29769364727242204,\n        \"min\": 0.0026246719160104987,\n        \"max\": 1.0,\n        \"num_unique_values\": 79,\n        \"samples\": [\n          0.04461942257217848,\n          0.5144356955380578,\n          0.5853018372703412\n        ],\n        \"semantic_type\": \"\",\n        \"description\": \"\"\n      }\n    },\n    {\n      \"column\": \"faculty_resources_rank\",\n      \"properties\": {\n        \"dtype\": \"number\",\n        \"std\": 0.2692160042937326,\n        \"min\": 0.0026246719160104987,\n        \"max\": 1.0,\n        \"num_unique_values\": 62,\n        \"samples\": [\n          0.03937007874015748,\n          0.24146981627296588,\n          0.984251968503937\n        ],\n        \"semantic_type\": \"\",\n        \"description\": \"\"\n      }\n    },\n    {\n      \"column\": \"test_scores\",\n      \"properties\": {\n        \"dtype\": \"number\",\n        \"std\": 13.011159265580188,\n        \"min\": 39.0,\n        \"max\": 99.5,\n        \"num_unique_values\": 89,\n        \"samples\": [\n          79.5,\n          71.0,\n          85.5\n        ],\n        \"semantic_type\": \"\",\n        \"description\": \"\"\n      }\n    },\n    {\n      \"column\": \"accomplished_freshman\",\n      \"properties\": {\n        \"dtype\": \"number\",\n        \"std\": 0.2576091544244202,\n        \"min\": 0.01,\n        \"max\": 1.0,\n        \"num_unique_values\": 76,\n        \"samples\": [\n          0.95,\n          0.43,\n          0.8\n        ],\n        \"semantic_type\": \"\",\n        \"description\": \"\"\n      }\n    },\n    {\n      \"column\": \"financial_resources_rank\",\n      \"properties\": {\n        \"dtype\": \"number\",\n        \"std\": 97,\n        \"min\": 1,\n        \"max\": 378,\n        \"num_unique_values\": 72,\n        \"samples\": [\n          1,\n          359,\n          45\n        ],\n        \"semantic_type\": \"\",\n        \"description\": \"\"\n      }\n    },\n    {\n      \"column\": \"alum_giving_rate\",\n      \"properties\": {\n        \"dtype\": \"number\",\n        \"std\": 0.08536954806451903,\n        \"min\": 0.01,\n        \"max\": 0.59,\n        \"num_unique_values\": 38,\n        \"samples\": [\n          0.03,\n          0.05,\n          0.27\n        ],\n        \"semantic_type\": \"\",\n        \"description\": \"\"\n      }\n    }\n  ]\n}"
            }
          },
          "metadata": {}
        }
      ]
    },
    {
      "cell_type": "markdown",
      "source": [
        "**From an older revision of Wikipedia:**\n",
        "\n",
        "\n",
        "\n",
        "\n",
        "*The following are elements in the U.S. News rankings as of the 2020 edition.*\n",
        "\n",
        "\n",
        "\n",
        "*   *Peer assessment: a survey of the institution's reputation among presidents, provosts, and admissions deans of other institutions (20%)*\n",
        "*   *Retention: six-year graduation rate and first-year student retention rate (22%)*\n",
        "*   *Social mobility: six-year graduation rates of students receiving Pell Grants—both as a standalone measure and compared to graduation rates of all other students at the school—adjusted significantly to give more credit to schools enrolling larger proportions of students receiving Pell Grants. (5%)*\n",
        "*   *Faculty resources: class sizes, faculty salary, faculty degree level, student-faculty ratio, and proportion of full-time faculty (20%)*\n",
        "*   *Student excellence: standardized test scores of admitted students and proportion of admitted students in upper percentiles of their high school class.* (unstated; by remainder --> 10%)\n",
        "*   *Financial resources: per-student spending related to academics, student support and public service. (10%)*\n",
        "*   *Graduation rate performance: comparison between modeled expected and actual graduation rate (8%)*\n",
        "*   *Alumni giving rate (5%)*\n",
        "\n",
        "\n",
        "\n",
        "\n"
      ],
      "metadata": {
        "id": "EYBPQ0emxji1"
      }
    },
    {
      "cell_type": "markdown",
      "source": [
        "## Exploring how noise affects rankings - how does schools reporting accuracy affect rankings\n",
        "\n",
        "**columns to explore:**\n",
        "*   retention 22%\n",
        "*   faculty resources 20%\n",
        "*   financial resources 10%\n",
        "*   alumni giving rate 5%\n",
        "\n",
        "**methods:**\n",
        "1.   applying noise to data\n",
        "\n",
        "*   run x many trials on each row and aggregate score of how much the rankings change\n",
        "*   List item\n",
        "\n",
        "\n",
        "2.   applying noise to weights\n",
        "3.   applying noise to both\n",
        "\n"
      ],
      "metadata": {
        "id": "60V0qCUWk2uG"
      }
    },
    {
      "cell_type": "code",
      "source": [
        "def normalize_df(df, exclude_columns=[]):\n",
        "    \"\"\"\n",
        "    Normalize all columns in the DataFrame to be between 0 and 1,\n",
        "    except for the columns specified in exclude_columns.\n",
        "\n",
        "    Parameters:\n",
        "    df (pd.DataFrame): The input DataFrame to normalize.\n",
        "    exclude_columns (list): List of columns to exclude from normalization.\n",
        "\n",
        "    Returns:\n",
        "    pd.DataFrame: A new DataFrame with normalized values.\n",
        "    \"\"\"\n",
        "    normalized_df = df.copy()\n",
        "    for column in normalized_df.columns:\n",
        "        if column not in exclude_columns:\n",
        "            min_val = normalized_df[column].min()\n",
        "            max_val = normalized_df[column].max()\n",
        "            normalized_df[column] = (normalized_df[column] - min_val) / (max_val - min_val)\n",
        "    return normalized_df\n",
        "\n",
        "# Example usage\n",
        "exclude_columns = ['school', 'rank']  # Columns to exclude from normalization\n",
        "ground_truth_top_20 = normalize_df(clean_2020_df[:50], exclude_columns)\n",
        "\n",
        "original_weights = {\n",
        "    'peer_score': 0.2,\n",
        "    'graduation_retention_rank': 0.22,\n",
        "    'social_mobility_rank': 0.05,\n",
        "    'faculty_resources_rank': 0.2,\n",
        "    'graduation_diff': 0.08,\n",
        "    'test_scores': 0.075,                # this and one below account for 'Student Excellence (10%)'\n",
        "    'accomplished_freshman': 0.025,\n",
        "    'financial_resources_rank': 0.1,\n",
        "    'alum_giving_rate': 0.05,\n",
        "}\n"
      ],
      "metadata": {
        "id": "GKD3tv6HIZ4h"
      },
      "execution_count": 8,
      "outputs": []
    },
    {
      "cell_type": "code",
      "source": [
        "# calc. column_ranges to be used when applying noise\n",
        "numeric_ground_truth_top_20 = ground_truth_top_20.drop(columns=['school', 'rank', 'score'])\n",
        "column_ranges = numeric_ground_truth_top_20.max() - numeric_ground_truth_top_20.min()  # taken from the full dataset\n",
        "print(column_ranges)\n"
      ],
      "metadata": {
        "id": "XO34QiGKpb8S",
        "colab": {
          "base_uri": "https://localhost:8080/"
        },
        "outputId": "cb47e843-3261-476d-e483-18ddbec0e188"
      },
      "execution_count": 9,
      "outputs": [
        {
          "output_type": "stream",
          "name": "stdout",
          "text": [
            "peer_score                   1.0\n",
            "graduation_retention_rank    1.0\n",
            "graduation_diff              1.0\n",
            "social_mobility_rank         1.0\n",
            "faculty_resources_rank       1.0\n",
            "test_scores                  1.0\n",
            "accomplished_freshman        1.0\n",
            "financial_resources_rank     1.0\n",
            "alum_giving_rate             1.0\n",
            "dtype: float64\n"
          ]
        }
      ]
    },
    {
      "cell_type": "markdown",
      "source": [
        "### Applying noise to the data"
      ],
      "metadata": {
        "id": "9KbW-soyH_Ud"
      }
    },
    {
      "cell_type": "code",
      "source": [
        "def apply_noise_to_column(df, column_name, noise_scale_factor):\n",
        "    \"\"\"copy the df and apply noise to the specified column\"\"\"\n",
        "    # Standard deviation of the noise is a fraction of the column's range\n",
        "    column_range = column_ranges[column_name]\n",
        "    std_dev = column_range * noise_scale_factor\n",
        "\n",
        "    # Applying the noise\n",
        "    noisy_df = df.copy()\n",
        "    noise = np.random.normal(0, std_dev, size=df[column_name].shape)\n",
        "    noisy_df[column_name] += noise\n",
        "\n",
        "    return noisy_df\n",
        "\n",
        "\n",
        "# display(ground_truth_top_20[['school', 'faculty_resources_rank']])\n",
        "# display(ground_truth_top_20[['school','rank','faculty_resources_rank']])\n",
        "# noisy_top_20 = apply_noise_to_column(ground_truth_top_20, 'faculty_resources_rank', .01)\n",
        "# display(noisy_top_20[['school', 'faculty_resources_rank']])"
      ],
      "metadata": {
        "id": "k7Gs-vipvmSN"
      },
      "execution_count": 10,
      "outputs": []
    },
    {
      "cell_type": "code",
      "source": [
        "from scipy.stats import spearmanr\n",
        "\n",
        "def score_dataset(df, weights):\n",
        "    # display(df[['school', 'rank']])\n",
        "    df['new_score'] = df.apply(lambda row: sum(row[col] * weight for col, weight in weights.items()), axis=1)\n",
        "    # display(df[['school', 'rank']])\n",
        "    return df\n",
        "\n",
        "\n",
        "def compare_datasets(df1, df2, column_name):\n",
        "    \"\"\"use spearman's rank correlation to compare diff between datasets\"\"\"\n",
        "    correlation, p_value = spearmanr(df1[column_name], df2[column_name])\n",
        "    # correlation, p_value = spearmanr(df1.sort_values(by=column_name),\n",
        "    #                                  df2.sort_values(by=column_name))\n",
        "    return correlation, p_value\n",
        "\n",
        "# print(compare_datasets(ground_truth_top_20, ground_truth_top_20))"
      ],
      "metadata": {
        "id": "Gq-SkeYtDfuS"
      },
      "execution_count": 11,
      "outputs": []
    },
    {
      "cell_type": "code",
      "source": [
        "def perform_noise_analysis(df, column_name, noise_scale_factor, num_iters=10):\n",
        "    correlations = []\n",
        "    for _ in range(num_iters):\n",
        "        # apply noise\n",
        "        noisy_df = apply_noise_to_column(df, column_name, noise_scale_factor)\n",
        "\n",
        "        # score the noisy data and sort by this score descending\n",
        "        noisy_df = score_dataset(noisy_df, original_weights).sort_values(by='new_score', ascending=False)\n",
        "        # display(noisy_df[['school','rank','new_score']])\n",
        "\n",
        "        # display(ground_truth_top_20[['school','rank']])\n",
        "        ground = score_dataset(ground_truth_top_20, original_weights).sort_values(by='new_score', ascending=False)\n",
        "\n",
        "        # calculate difference against ground truth order\n",
        "        # corr, _ = compare_datasets(noisy_df, ground_truth_top_20, 'school')\n",
        "        corr, _ = compare_datasets(noisy_df, ground, 'school')\n",
        "        # print(corr)\n",
        "        correlations.append(corr)\n",
        "\n",
        "    # return dfs\n",
        "    return np.mean(correlations)"
      ],
      "metadata": {
        "id": "Fol3TfINBjn7"
      },
      "execution_count": 12,
      "outputs": []
    },
    {
      "cell_type": "code",
      "source": [
        "correlation = perform_noise_analysis(ground_truth_top_20, 'faculty_resources_rank', 0.01, 100)\n",
        "print(correlation)\n",
        "# print(ground_truth_top_20.columns)"
      ],
      "metadata": {
        "colab": {
          "base_uri": "https://localhost:8080/"
        },
        "id": "bpp7FTm54Lp7",
        "outputId": "53a66805-5a6d-4953-ad42-07edc83f0fe9"
      },
      "execution_count": 13,
      "outputs": [
        {
          "output_type": "stream",
          "name": "stdout",
          "text": [
            "0.9162304921968787\n"
          ]
        }
      ]
    },
    {
      "cell_type": "code",
      "source": [
        "def perform_noise_analysis_across_columns(df, noise_scale_factor, num_iters=10):\n",
        "    mean_correlations = {}\n",
        "    for col in ['faculty_resources_rank', 'financial_resources_rank', 'alum_giving_rate']:\n",
        "        mean_corr = perform_noise_analysis(df, col, noise_scale_factor, num_iters=num_iters)\n",
        "        mean_correlations[col] = mean_corr\n",
        "    return mean_correlations\n"
      ],
      "metadata": {
        "id": "86kI8vo4J9lu"
      },
      "execution_count": 14,
      "outputs": []
    },
    {
      "cell_type": "code",
      "source": [
        "import matplotlib.pyplot as plt\n",
        "\n",
        "nsf = [0.01, 0.05, 0.10]\n",
        "colors = ['steelblue', 'mediumseagreen', 'salmon']\n",
        "\n",
        "def graph_data_noise(df, num_iters):\n",
        "    for i in range(3):\n",
        "        print(f\"Noise Scale Factor = {nsf[i]}\")\n",
        "        res = perform_noise_analysis_across_columns(df, nsf[i], num_iters)\n",
        "        print(res)\n",
        "\n",
        "        # make a bar graph\n",
        "        values = []\n",
        "        labels = []\n",
        "        for col, cor in res.items():\n",
        "            values.append(cor)\n",
        "            labels.append(col)\n",
        "\n",
        "        plt.figure(figsize=(10, 6))\n",
        "        # plt.bar(labels, values, color=colors[i])\n",
        "        bars = plt.bar(labels, values, color=colors[i])\n",
        "        plt.ylim(0, 1)\n",
        "        plt.xlabel('column')\n",
        "        plt.ylabel(\"Spearman's Rank Correlation\")\n",
        "        plt.title(f\"Spearman's Rank Correlation Comparison with {nsf[i]*100}% Noise on Data\")\n",
        "        plt.xticks(rotation=0, ha='center')\n",
        "        plt.tight_layout()\n",
        "\n",
        "        for bar in bars:\n",
        "            yval = bar.get_height()\n",
        "            plt.text(bar.get_x() + bar.get_width() / 2, yval, round(yval, 2),\n",
        "                     ha='center', va='bottom')\n",
        "\n",
        "        plt.show()\n",
        "\n",
        "\n",
        "graph_data_noise(ground_truth_top_20, 10)"
      ],
      "metadata": {
        "colab": {
          "base_uri": "https://localhost:8080/",
          "height": 1000
        },
        "id": "O1bEYHjdeJAs",
        "outputId": "141aaddc-f04e-4801-87cc-a7bd65e870b3"
      },
      "execution_count": 15,
      "outputs": [
        {
          "output_type": "stream",
          "name": "stdout",
          "text": [
            "Noise Scale Factor = 0.01\n",
            "{'faculty_resources_rank': 0.9057767106842738, 'financial_resources_rank': 0.9817238895558222, 'alum_giving_rate': 0.9952557022809124}\n"
          ]
        },
        {
          "output_type": "display_data",
          "data": {
            "text/plain": [
              "<Figure size 1000x600 with 1 Axes>"
            ],
            "image/png": "[encoded data removed]"
          },
          "metadata": {}
        },
        {
          "output_type": "stream",
          "name": "stdout",
          "text": [
            "Noise Scale Factor = 0.05\n",
            "{'faculty_resources_rank': 0.42101320528211283, 'financial_resources_rank': 0.6877599039615846, 'alum_giving_rate': 0.8743433373349341}\n"
          ]
        },
        {
          "output_type": "display_data",
          "data": {
            "text/plain": [
              "<Figure size 1000x600 with 1 Axes>"
            ],
            "image/png": "[encoded data removed]"
          },
          "metadata": {}
        },
        {
          "output_type": "stream",
          "name": "stdout",
          "text": [
            "Noise Scale Factor = 0.1\n",
            "{'faculty_resources_rank': 0.26611284513805517, 'financial_resources_rank': 0.4932244897959183, 'alum_giving_rate': 0.6341320528211284}\n"
          ]
        },
        {
          "output_type": "display_data",
          "data": {
            "text/plain": [
              "<Figure size 1000x600 with 1 Axes>"
            ],
            "image/png": "[encoded data removed]"
          },
          "metadata": {}
        }
      ]
    },
    {
      "cell_type": "markdown",
      "source": [
        "**problem**\n",
        "\n",
        "applying the random noise to the z scores"
      ],
      "metadata": {
        "id": "PcYGaBvQeB4i"
      }
    },
    {
      "cell_type": "code",
      "source": [
        "# display(clean_2020_df[:10])"
      ],
      "metadata": {
        "id": "8xizMUCMelEQ"
      },
      "execution_count": 16,
      "outputs": []
    },
    {
      "cell_type": "markdown",
      "source": [
        "### Applying noise to the weights"
      ],
      "metadata": {
        "id": "ypk97MFUOmmW"
      }
    },
    {
      "cell_type": "code",
      "source": [
        "def make_noisy_weights(og_weights, noise_scale_factor=0.1):\n",
        "    noisy_weights = {}\n",
        "    for key, weight in og_weights.items():\n",
        "        new_weight = np.random.normal(weight, noise_scale_factor * weight)\n",
        "        noisy_weights[key] = new_weight\n",
        "    total_weight = sum(noisy_weights.values())\n",
        "    for col in noisy_weights:\n",
        "        noisy_weights[col] /= total_weight\n",
        "    return noisy_weights\n",
        "\n",
        "# noisyW = make_noisy_weights(original_weights, 0.1)\n",
        "# print(original_weights)\n",
        "# print(noisyW)\n"
      ],
      "metadata": {
        "id": "2qQwuVefOtEz"
      },
      "execution_count": 17,
      "outputs": []
    },
    {
      "cell_type": "code",
      "source": [
        "def perform_noisy_weight_analysis(df, weights, noise_scale_factor=0.1, num_iters=10):\n",
        "    correlations = []\n",
        "\n",
        "    for _ in range(num_iters):\n",
        "        new_weights = make_noisy_weights(original_weights, noise_scale_factor)\n",
        "\n",
        "        # score the data w/ noisy weights and sort by this score descending\n",
        "        noisy_df = score_dataset(df, new_weights).sort_values(by='new_score', ascending=False)\n",
        "        ground = score_dataset(df, original_weights).sort_values(by='new_score', ascending=False)\n",
        "\n",
        "        corr, _ = compare_datasets(noisy_df, ground, 'school')\n",
        "        correlations.append(corr)\n",
        "\n",
        "    return np.mean(correlations)\n",
        "\n",
        "# display(ground_truth_top_20)\n",
        "# perform_noisy_weight_analysis(ground_truth_top_20, original_weights, 0.1, 100)\n"
      ],
      "metadata": {
        "id": "P2hWd0OGSc2H"
      },
      "execution_count": 18,
      "outputs": []
    },
    {
      "cell_type": "code",
      "source": [
        "def graph_weight_noise(df, num_iters):\n",
        "    labels = [0.01, 0.05, 0.10]\n",
        "    values = []\n",
        "    for nsf in labels:\n",
        "        print(f\"Noise Scale Factor = {nsf}\")\n",
        "        res = perform_noisy_weight_analysis(ground_truth_top_20, original_weights, nsf, num_iters)\n",
        "        print(res)\n",
        "        values.append(res)\n",
        "\n",
        "    plt.figure(figsize=(10, 6))\n",
        "    bars = plt.bar([f\"{int(label*100)}%\" for label in labels], values, color='palevioletred')\n",
        "    plt.ylim(0, 1)\n",
        "    plt.xlabel('Noise Scale Factor')\n",
        "    plt.ylabel(\"Spearman's Rank Correlation\")\n",
        "    plt.title(\"Spearman's Rank Correlation Comparison with Noise on Weights\")\n",
        "    plt.xticks(rotation=0, ha='center')\n",
        "    plt.tight_layout()\n",
        "\n",
        "    for bar in bars:\n",
        "        yval = bar.get_height()\n",
        "        plt.text(bar.get_x() + bar.get_width() / 2, yval, round(yval, 2),\n",
        "                 ha='center', va='bottom')\n",
        "\n",
        "    plt.show()\n",
        "\n",
        "\n",
        "graph_weight_noise(ground_truth_top_20, 1000)"
      ],
      "metadata": {
        "colab": {
          "base_uri": "https://localhost:8080/",
          "height": 714
        },
        "id": "T8m0SG5pNDM0",
        "outputId": "129d152d-8bcc-4920-fc52-852805ddd522"
      },
      "execution_count": 19,
      "outputs": [
        {
          "output_type": "stream",
          "name": "stdout",
          "text": [
            "Noise Scale Factor = 0.01\n",
            "0.9926187755102042\n",
            "Noise Scale Factor = 0.05\n",
            "0.853782280912365\n",
            "Noise Scale Factor = 0.1\n",
            "0.7222443217286914\n"
          ]
        },
        {
          "output_type": "display_data",
          "data": {
            "text/plain": [
              "<Figure size 1000x600 with 1 Axes>"
            ],
            "image/png": "[encoded data removed]"
          },
          "metadata": {}
        }
      ]
    }
  ]
}
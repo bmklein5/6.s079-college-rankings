{
  "nbformat": 4,
  "nbformat_minor": 0,
  "metadata": {
    "colab": {
      "provenance": []
    },
    "kernelspec": {
      "name": "python3",
      "display_name": "Python 3"
    },
    "language_info": {
      "name": "python"
    }
  },
  "cells": [
    {
      "cell_type": "code",
      "execution_count": 1,
      "metadata": {
        "id": "z6k7wCl4kEPE"
      },
      "outputs": [],
      "source": [
        "import pandas as pd\n",
        "import numpy as np"
      ]
    },
    {
      "cell_type": "code",
      "source": [
        "from google.colab import drive\n",
        "drive.mount('/content/drive/')\n",
        "\n",
        "US_NEWS_2020_PATH = \"/content/drive/MyDrive/6.S079_Project/data/us_news_2020.csv\"\n",
        "US_NEWS_2019_PATH = \"/content/drive/MyDrive/6.S079_Project/data/us_news_2019.csv\"\n",
        "\n",
        "WEIGHTS_2019_PATH = \"/content/drive/MyDrive/6.S079_Project/data/2019_weights.csv\"\n",
        "WEIGHTS_2020_PATH = \"/content/drive/MyDrive/6.S079_Project/data/2020_weights.csv\"\n",
        "\n",
        "act_percentiles_2020 = {36: 100, 35: 99, 34: 99, 33: 97, 32: 96, 31: 94, 30: 92, 29: 90, 28: 88, 27: 85, 26: 82, 25: 78, 24: 74, 23: 70, 22: 65, 21: 60, 20: 54, 19: 48, 18: 42, 17: 36, 16: 30, 15: 24, 14: 17, 13: 11, 12: 6, 11: 2, 10: 1, 9: 1, 8: 1, 7: 1, 6: 1, 5: 1, 4: 1, 3: 1, 2: 1, 1: 1}\n",
        "\n",
        "sat_percentiles_2020 = {1600: 100, 1590: 100, 1580: 100, 1570: 100, 1560: 100, 1550: 99, 1540: 99, 1530: 99, 1520: 99, 1510: 98, 1500: 98, 1490: 98, 1480: 97, 1470: 97, 1460: 97, 1450: 96, 1440: 96, 1430: 95, 1420: 95, 1410: 94, 1400: 94, 1390: 93, 1380: 92, 1370: 92, 1360: 91, 1350: 90, 1340: 89, 1330: 89, 1320: 88, 1310: 87, 1300: 86, 1290: 85, 1280: 84, 1270: 83, 1260: 82, 1250: 81, 1240: 80, 1230: 78, 1220: 77, 1210: 76, 1200: 74, 1190: 73, 1180: 72, 1170: 70, 1160: 69, 1150: 67, 1140: 66, 1130: 64, 1120: 62, 1110: 61, 1100: 59, 1090: 57, 1080: 55, 1070: 54, 1060: 52, 1050: 50, 1040: 48, 1030: 46, 1020: 45, 1010: 43, 1000: 41, 990: 39, 980: 38, 970: 36, 960: 34, 950: 33, 940: 31, 930: 29, 920: 28, 910: 26, 900: 25, 890: 23, 880: 22, 870: 20, 860: 19, 850: 18, 840: 16, 830: 15, 820: 14, 810: 12, 800: 11, 790: 10, 780: 9, 770: 8, 760: 7, 750: 6, 740: 5, 730: 5, 720: 4, 710: 3, 700: 3, 690: 2, 680: 2, 670: 1, 660: 1, 650: 1, 640: 1, 630: 1, 620: 1, 610: 1, 600: 1}\n"
      ],
      "metadata": {
        "colab": {
          "base_uri": "https://localhost:8080/"
        },
        "id": "AKlU3T5kyBIs",
        "outputId": "60e95576-7bd0-4818-e7a7-db65af30fded"
      },
      "execution_count": 2,
      "outputs": [
        {
          "output_type": "stream",
          "name": "stdout",
          "text": [
            "Mounted at /content/drive/\n"
          ]
        }
      ]
    },
    {
      "cell_type": "markdown",
      "source": [],
      "metadata": {
        "id": "vsbm7d3l-jM9"
      }
    },
    {
      "cell_type": "code",
      "source": [
        "# us_news_2019 = pd.read_csv(US_NEWS_2019_PATH)\n",
        "# weights_2019 = pd.read_csv(WEIGHTS_2019_PATH)\n",
        "\n",
        "\n",
        "us_news_2020 = pd.read_csv(US_NEWS_2020_PATH)\n",
        "weights_2020 = pd.read_csv(WEIGHTS_2020_PATH)"
      ],
      "metadata": {
        "id": "WHcRREwDyzSD"
      },
      "execution_count": 3,
      "outputs": []
    },
    {
      "cell_type": "code",
      "source": [
        "from google.colab import drive\n",
        "drive.mount('/content/drive')"
      ],
      "metadata": {
        "colab": {
          "base_uri": "https://localhost:8080/"
        },
        "id": "hkf7-W3W-POo",
        "outputId": "4a5e00c4-3bb4-4cbf-efad-16026271590e"
      },
      "execution_count": 4,
      "outputs": [
        {
          "output_type": "stream",
          "name": "stdout",
          "text": [
            "Drive already mounted at /content/drive; to attempt to forcibly remount, call drive.mount(\"/content/drive\", force_remount=True).\n"
          ]
        }
      ]
    },
    {
      "cell_type": "code",
      "source": [
        "clean_dict = {\n",
        "    '2020 Rank': ['rank', 'int'],\n",
        "    'School' : ['school', 'str'],\n",
        "    'Overall Score': ['score', 'int'],\n",
        "    'Peer Assessment Score': ['peer_score', 'float64'],\n",
        "    'Graduation and retention rank': ['graduation_retention_rank', 'int'],\n",
        "    # 'Average first year retention rate': ['freshman_retention', 'pct'],           EMBODIED BY 'Graduation and retention rank'\n",
        "    'Over/Underperformance': ['graduation_diff', 'int'],\n",
        "    # 'Pell Gradrate': ['pell_gradrate', 'pct'],                                    EMBODIED BY 'Social Mobility Rank'\n",
        "    'Social Mobility Rank': ['social_mobility_rank', 'int'],\n",
        "    'Faculty resources rank': ['faculty_resources_rank', 'int'],\n",
        "    # 'Percent of classes under 20': ['small_class_pct', 'pct'],                    EMBODIED BY 'Faculty resources rank'\n",
        "    # 'Percent of classes of 50 or more students': ['large_class_pct', 'pct'],      EMBODIED BY 'Faculty resources rank'\n",
        "    # 'Student/faculty ratio': ['student_faculty_ratio', 'ratio'],                  EMBODIED BY 'Faculty resources rank'\n",
        "    # 'Selectivity rank': ['selectivity_rank', 'int'],                              EMBODIED BY 'Faculty resources rank'\n",
        "    'SAT/ACT 25th-75th percentile': ['test_scores', 'range'],\n",
        "    'First year students in top 10% of high school class': ['accomplished_freshman', 'pct'],\n",
        "    # 'Acceptance rate': ['acceptance_rate', 'pct'],                                NOT IN CRITERIA\n",
        "    'Financial resources rank': ['financial_resources_rank', 'int'],\n",
        "    'Average alumni giving rate': ['alum_giving_rate', 'pct'],\n",
        "}"
      ],
      "metadata": {
        "id": "Gi954EbPyoHx"
      },
      "execution_count": 5,
      "outputs": []
    },
    {
      "cell_type": "code",
      "source": [
        "def ratio_converter(ratio_str):\n",
        "  numerator, denominator = map(float, ratio_str.split(' to '))\n",
        "  return numerator / denominator if denominator != 0 else None\n",
        "\n",
        "def range_converter(range_str):\n",
        "  if type(range_str) == str:\n",
        "    bottom, top = map(float, range_str.split('-'))\n",
        "    # converts the top and bottom range to the ACT/SAT Percentiles for the year 2020\n",
        "    if top <= 36:\n",
        "      bottom = act_percentiles_2020[bottom]\n",
        "      top = act_percentiles_2020[top]\n",
        "    else:\n",
        "      bottom = sat_percentiles_2020[round(bottom, -1)]\n",
        "      top = sat_percentiles_2020[round(top, -1)]\n",
        "    return (bottom + top)/2\n",
        "  else: # in case of 'nan' values\n",
        "     return range_str\n",
        "\n",
        "def rank_converter(df, col):\n",
        "  max_rank = df[col].max()\n",
        "  df[col] = (max_rank + 1 - df[col]) / max_rank\n",
        "  return df\n",
        "\n",
        "def clean_2020_data(df, trans_dic):\n",
        "  for col in df.columns:\n",
        "    # print(col)\n",
        "    try:\n",
        "      _name, _type = trans_dic[col]\n",
        "      df = df.rename(columns={col: _name})\n",
        "      if _type in ['int', 'float64']:\n",
        "        df[_name] = pd.to_numeric(df[_name], errors='coerce')\n",
        "      elif _type == 'str':\n",
        "        df[_name] = df[_name].astype('str')\n",
        "      elif _type == 'pct':\n",
        "        df[_name] = df[_name].str.rstrip('%').astype(float) / 100\n",
        "      elif _type == 'ratio':\n",
        "        df[_name] = df[_name].apply(ratio_converter)\n",
        "      elif _type == 'range':\n",
        "        df[_name] = df[_name].apply(range_converter)\n",
        "    except:\n",
        "      df = df.drop(columns=col)\n",
        "\n",
        "  #==========================================\n",
        "  # CONTEXT DEPENDENT (i.e 2020) TRANSFORMATIONS\n",
        "  #==========================================\n",
        "  # 'NaN' represents a difference of 0\n",
        "  df['graduation_diff'] = df['graduation_diff'].fillna(0)\n",
        "\n",
        "  # adjust and normalize ranks\n",
        "  # df['social_mobility_rank'] = df['social_mobility_rank'].apply(lambda v: (max(df.social_mobility_rank) + 1 - v)/max(df.social_mobility_rank))\n",
        "  # df['faculty_resources_rank'] = df['faculty_resources_rank'].apply(lambda v: (max(df.faculty_resources_rank) + 1 - v)/max(df.faculty_resources_rank))\n",
        "\n",
        "  df = rank_converter(df, 'social_mobility_rank')\n",
        "  df = rank_converter(df, 'faculty_resources_rank')\n",
        "  df = rank_converter(df, 'graduation_retention_rank')\n",
        "\n",
        "  #==========================================\n",
        "\n",
        "  return df"
      ],
      "metadata": {
        "id": "GDGOvaaOr2mJ"
      },
      "execution_count": 6,
      "outputs": []
    },
    {
      "cell_type": "code",
      "source": [
        "clean_2020_df = clean_2020_data(us_news_2020, clean_dict)\n",
        "print(clean_2020_df)"
      ],
      "metadata": {
        "id": "UbtPr0Hj5igp",
        "colab": {
          "base_uri": "https://localhost:8080/"
        },
        "outputId": "9f01ab3c-8f24-47fa-df7b-226d0988496f"
      },
      "execution_count": 7,
      "outputs": [
        {
          "output_type": "stream",
          "name": "stdout",
          "text": [
            "     rank                                 school  score  peer_score  \\\n",
            "0       1              Princeton University (NJ)    100         4.9   \n",
            "1       2                Harvard University (MA)     96         4.9   \n",
            "2       3               Columbia University (NY)     94         4.7   \n",
            "3       3  Massachusetts Institute of Technology     94         4.9   \n",
            "4       3                   Yale University (CT)     94         4.8   \n",
            "..    ...                                    ...    ...         ...   \n",
            "287   281      Sam Houston State University (TX)     27         2.2   \n",
            "288   281           Univ. of Missouri--St. Louis     27         2.4   \n",
            "289   281            University of North Florida     27         2.4   \n",
            "290   281              University of North Texas     27         2.6   \n",
            "291   281          William Carey University (MS)     27         1.8   \n",
            "\n",
            "     graduation_retention_rank  graduation_diff  social_mobility_rank  \\\n",
            "0                     0.997118              1.0              0.514436   \n",
            "1                     0.997118              1.0              0.514436   \n",
            "2                     0.991354              2.0              0.640420   \n",
            "3                     0.974063             -1.0              0.370079   \n",
            "4                     1.000000              0.0              0.254593   \n",
            "..                         ...              ...                   ...   \n",
            "287                   0.201729              6.0              0.782152   \n",
            "288                   0.187320            -11.0              0.750656   \n",
            "289                   0.340058             -2.0              0.700787   \n",
            "290                   0.250720              0.0              0.750656   \n",
            "291                   0.265130              0.0              0.874016   \n",
            "\n",
            "     faculty_resources_rank  test_scores  accomplished_freshman  \\\n",
            "0                  0.984252         98.0                   0.91   \n",
            "1                  0.986877         98.5                   0.94   \n",
            "2                  0.994751         98.0                   0.96   \n",
            "3                  0.979003         99.0                   0.97   \n",
            "4                  0.973753         98.0                   0.95   \n",
            "..                      ...          ...                    ...   \n",
            "287                0.162730         53.5                   0.19   \n",
            "288                0.267717         72.5                   0.26   \n",
            "289                0.052493         73.0                   0.16   \n",
            "290                0.052493         67.0                   0.19   \n",
            "291                0.687664         75.0                   0.27   \n",
            "\n",
            "     financial_resources_rank  alum_giving_rate  \n",
            "0                          12              0.59  \n",
            "1                           8              0.31  \n",
            "2                          13              0.30  \n",
            "3                           2              0.33  \n",
            "4                           1              0.27  \n",
            "..                        ...               ...  \n",
            "287                       365              0.07  \n",
            "288                       294              0.04  \n",
            "289                       339              0.04  \n",
            "290                       376              0.04  \n",
            "291                       375              0.05  \n",
            "\n",
            "[292 rows x 12 columns]\n"
          ]
        }
      ]
    },
    {
      "cell_type": "markdown",
      "source": [
        "**From an older revision of Wikipedia:**\n",
        "\n",
        "\n",
        "\n",
        "\n",
        "*The following are elements in the U.S. News rankings as of the 2020 edition.*\n",
        "\n",
        "\n",
        "\n",
        "*   *Peer assessment: a survey of the institution's reputation among presidents, provosts, and admissions deans of other institutions (20%)*\n",
        "*   *Retention: six-year graduation rate and first-year student retention rate (22%)*\n",
        "*   *Social mobility: six-year graduation rates of students receiving Pell Grants—both as a standalone measure and compared to graduation rates of all other students at the school—adjusted significantly to give more credit to schools enrolling larger proportions of students receiving Pell Grants. (5%)*\n",
        "*   *Faculty resources: class sizes, faculty salary, faculty degree level, student-faculty ratio, and proportion of full-time faculty (20%)*\n",
        "*   *Student excellence: standardized test scores of admitted students and proportion of admitted students in upper percentiles of their high school class.* (unstated; by remainder --> 10%)\n",
        "*   *Financial resources: per-student spending related to academics, student support and public service. (10%)*\n",
        "*   *Graduation rate performance: comparison between modeled expected and actual graduation rate (8%)*\n",
        "*   *Alumni giving rate (5%)*\n",
        "\n",
        "\n",
        "\n",
        "\n"
      ],
      "metadata": {
        "id": "EYBPQ0emxji1"
      }
    },
    {
      "cell_type": "markdown",
      "source": [
        "## Exploring how noise affects rankings - how does schools reporting accuracy affect rankings\n",
        "\n",
        "**columns to explore:**\n",
        "*   retention 22%\n",
        "*   faculty resources 20%\n",
        "*   financial resources 10%\n",
        "*   alumni giving rate 5%\n",
        "\n",
        "**methods:**\n",
        "1.   applying noise to data, spearman rank\n",
        "2.   applying noise to weights, spearman rank\n",
        "3.   applying noise to weights, fit movement distribution\n",
        "\n"
      ],
      "metadata": {
        "id": "60V0qCUWk2uG"
      }
    },
    {
      "cell_type": "code",
      "source": [
        "def normalize_df(df, exclude_columns=[]):\n",
        "    \"\"\"\n",
        "    Normalize all columns in the DataFrame to be between 0 and 1,\n",
        "    except for the columns specified in exclude_columns.\n",
        "\n",
        "    Parameters:\n",
        "    df (pd.DataFrame): The input DataFrame to normalize.\n",
        "    exclude_columns (list): List of columns to exclude from normalization.\n",
        "\n",
        "    Returns:\n",
        "    pd.DataFrame: A new DataFrame with normalized values.\n",
        "    \"\"\"\n",
        "    normalized_df = df.copy()\n",
        "    for column in normalized_df.columns:\n",
        "        if column not in exclude_columns:\n",
        "            min_val = normalized_df[column].min()\n",
        "            max_val = normalized_df[column].max()\n",
        "            normalized_df[column] = (normalized_df[column] - min_val) / (max_val - min_val)\n",
        "    return normalized_df\n",
        "\n",
        "# Example usage\n",
        "exclude_columns = ['school', 'rank']  # Columns to exclude from normalization\n",
        "ground_truth_top_20 = normalize_df(clean_2020_df[:50], exclude_columns)\n",
        "\n",
        "original_weights = {\n",
        "    'peer_score': 0.2,\n",
        "    'graduation_retention_rank': 0.22,\n",
        "    'social_mobility_rank': 0.05,\n",
        "    'faculty_resources_rank': 0.2,\n",
        "    'graduation_diff': 0.08,\n",
        "    'test_scores': 0.075,                # this and one below account for 'Student Excellence (10%)'\n",
        "    'accomplished_freshman': 0.025,\n",
        "    'financial_resources_rank': 0.1,\n",
        "    'alum_giving_rate': 0.05,\n",
        "}\n"
      ],
      "metadata": {
        "id": "GKD3tv6HIZ4h"
      },
      "execution_count": 53,
      "outputs": []
    },
    {
      "cell_type": "code",
      "source": [
        "# calc. column_ranges to be used when applying noise\n",
        "numeric_ground_truth_top_20 = ground_truth_top_20.drop(columns=['school', 'rank', 'score'])\n",
        "column_ranges = numeric_ground_truth_top_20.max() - numeric_ground_truth_top_20.min()  # taken from the full dataset\n",
        "# print(column_ranges)\n"
      ],
      "metadata": {
        "id": "XO34QiGKpb8S"
      },
      "execution_count": 54,
      "outputs": []
    },
    {
      "cell_type": "markdown",
      "source": [
        "## Finding Variance of Positions Moved When Noise Applied"
      ],
      "metadata": {
        "id": "LiOVjaHLdWfZ"
      }
    },
    {
      "cell_type": "markdown",
      "source": [
        "### Noise Applied to Data"
      ],
      "metadata": {
        "id": "y8xb5WYX4tq8"
      }
    },
    {
      "cell_type": "code",
      "source": [
        "import pandas as pd\n",
        "\n",
        "def calculate_rank_difference(df, df_true):\n",
        "    # Ensure rank columns are not already present to avoid issues\n",
        "    df = df.copy()\n",
        "    df_true = df_true.copy()\n",
        "\n",
        "    if 'Rank_df' in df.columns:\n",
        "        df = df.drop(columns=['Rank_df'])\n",
        "    if 'Rank_df_true' in df_true.columns:\n",
        "        df_true = df_true.drop(columns=['Rank_df_true'])\n",
        "\n",
        "    # Create a ranking column based on the row index\n",
        "    df['Rank_df'] = df.index + 1\n",
        "    df_true['Rank_df_true'] = df_true.index + 1\n",
        "\n",
        "    # # Display for debugging\n",
        "    # print(\"df with Rank_df column:\")\n",
        "    # display(df)\n",
        "    # print(\"df_true with Rank_df_true column:\")\n",
        "    # display(df_true)\n",
        "\n",
        "    # Merge the two dataframes on the school column\n",
        "    merged_df = df.merge(df_true, on='school', suffixes=('_df', '_df_true'))\n",
        "\n",
        "    # # Display for debugging\n",
        "    # print(\"Merged DataFrame:\")\n",
        "    # display(merged_df)\n",
        "\n",
        "    # Calculate the rank difference\n",
        "    merged_df['rank_difference'] = merged_df['Rank_df_true'] - merged_df['Rank_df']\n",
        "\n",
        "    # Return the resulting dataframe with school and rank difference\n",
        "    result_df = merged_df[['school', 'rank_difference']]\n",
        "    return result_df\n",
        "\n",
        "# Example usage:\n",
        "# ground_truth_top_20 = pd.DataFrame({\n",
        "#     'school': ['School A', 'School B', 'School C', 'School D'],\n",
        "#     'rank': [1, 2, 3, 4]\n",
        "# })\n",
        "\n",
        "# Simulate the noisy DataFrame by sorting ground_truth_top_20 in descending order\n",
        "# noisy_df = ground_truth_top_20.sort_values(by='rank', ascending=False).reset_index(drop=True)\n",
        "\n",
        "# result = calculate_rank_difference(noisy_df, ground_truth_top_20)\n",
        "# print(\"Result DataFrame with rank differences:\")\n",
        "# print(result)\n"
      ],
      "metadata": {
        "id": "xsEnwYNyfEk9"
      },
      "execution_count": 55,
      "outputs": []
    },
    {
      "cell_type": "code",
      "source": [
        "def apply_noise_to_column(df, column_name, noise_scale_factor):\n",
        "    \"\"\"copy the df and apply noise to the specified column\"\"\"\n",
        "    # Standard deviation of the noise is a fraction of the column's range\n",
        "    column_range = column_ranges[column_name]\n",
        "    std_dev = column_range * noise_scale_factor\n",
        "\n",
        "    # Applying the noise\n",
        "    noisy_df = df.copy()\n",
        "    noise = np.random.normal(0, std_dev, size=df[column_name].shape)\n",
        "    noisy_df[column_name] += noise\n",
        "\n",
        "    return noisy_df\n",
        "\n",
        "def score_dataset(df, weights):\n",
        "    # display(df[['school', 'rank']])\n",
        "    df['new_score'] = df.apply(lambda row: sum(row[col] * weight for col, weight in weights.items()), axis=1)\n",
        "    # display(df[['school', 'rank']])\n",
        "    return df"
      ],
      "metadata": {
        "id": "tVJqtI2Va1KP"
      },
      "execution_count": 56,
      "outputs": []
    },
    {
      "cell_type": "code",
      "source": [
        "SUBJ_COLUMNS = ['faculty_resources_rank', 'financial_resources_rank', 'alum_giving_rate']\n",
        "def calc_movement_with_noisy_data(df, column_name, noise_scale_factor, num_iters=10):\n",
        "    running_diff_df = pd.DataFrame(df['school'])\n",
        "    running_diff_df['running_diff'] = 0\n",
        "\n",
        "    for _ in range(num_iters):\n",
        "        # Apply noise to the column\n",
        "        noisy_df = apply_noise_to_column(df, column_name, noise_scale_factor)\n",
        "        # noisy_df = apply_noise_to_column(df, SUBJ_COLUMNS[0], noise_scale_factor)\n",
        "        # noisy_df = apply_noise_to_column(df, SUBJ_COLUMNS[1], noise_scale_factor)\n",
        "        # noisy_df = apply_noise_to_column(df, SUBJ_COLUMNS[2], noise_scale_factor)\n",
        "\n",
        "        # Score the noisy data and sort by this score descending\n",
        "        noisy_df = score_dataset(noisy_df, original_weights).sort_values(by='new_score', ascending=False).reset_index(drop=True)\n",
        "\n",
        "        # Score the ground truth data and sort by this score descending\n",
        "        ground = score_dataset(ground_truth_top_20, original_weights).sort_values(by='new_score', ascending=False).reset_index(drop=True)\n",
        "\n",
        "        # Calculate how many spots each school moved\n",
        "        rank_diff_df = calculate_rank_difference(noisy_df, ground)\n",
        "\n",
        "        # Add the rank differences to the running_diff_df\n",
        "        running_diff_df = running_diff_df.merge(rank_diff_df, on='school', how='left')\n",
        "        running_diff_df['rank_difference'] = running_diff_df['rank_difference'].fillna(0)\n",
        "        running_diff_df['running_diff'] += running_diff_df['rank_difference']\n",
        "\n",
        "        # Drop the 'rank_difference' column for the next iteration\n",
        "        running_diff_df = running_diff_df.drop(columns=['rank_difference'])\n",
        "\n",
        "    running_diff_df['running_diff'] /= num_iters\n",
        "    # print(running_diff_df)\n",
        "    return running_diff_df\n"
      ],
      "metadata": {
        "id": "L-ekEzKUdnx0"
      },
      "execution_count": 57,
      "outputs": []
    },
    {
      "cell_type": "code",
      "source": [
        "from scipy.stats import norm\n",
        "import matplotlib.pyplot as plt\n",
        "\n",
        "def calculate_distribution(running_diff_df, plot=False):\n",
        "    # Fit a normal distribution to the running_diff data\n",
        "    running_diff = running_diff_df['running_diff']\n",
        "    mu, std = norm.fit(running_diff)\n",
        "\n",
        "    print(f\"Mean of movements: {mu}\")\n",
        "    print(f\"Standard deviation of movements: {std}\")\n",
        "\n",
        "    if plot:\n",
        "        # Plot the histogram of the data\n",
        "        plt.hist(running_diff, bins=30, density=True, alpha=0.6, color='g')\n",
        "\n",
        "        # Plot the PDF of the fitted normal distribution\n",
        "        xmin, xmax = plt.xlim()\n",
        "        x = np.linspace(xmin, xmax, 100)\n",
        "        p = norm.pdf(x, mu, std)\n",
        "        plt.plot(x, p, 'k', linewidth=2)\n",
        "        title = \"Fit results: mu = %.2f,  std = %.2f\" % (mu, std)\n",
        "        plt.title(title)\n",
        "\n",
        "        plt.show()\n",
        "\n",
        "    return mu, std\n"
      ],
      "metadata": {
        "id": "eoQRbEUSqJKR"
      },
      "execution_count": 58,
      "outputs": []
    },
    {
      "cell_type": "code",
      "source": [
        "result_moves_df = calc_movement_with_noisy_data(ground_truth_top_20, 'faculty_resources_rank', 0.10, 10)\n",
        "mean, std_dev = calculate_distribution(result_moves_df, True)"
      ],
      "metadata": {
        "colab": {
          "base_uri": "https://localhost:8080/",
          "height": 488
        },
        "id": "8FtZMHPfqxZ6",
        "outputId": "58112682-6c0d-49be-94bd-c74a689e8c4d"
      },
      "execution_count": 59,
      "outputs": [
        {
          "output_type": "stream",
          "name": "stdout",
          "text": [
            "Mean of movements: 1.1657341758564143e-17\n",
            "Standard deviation of movements: 1.0256705123966467\n"
          ]
        },
        {
          "output_type": "display_data",
          "data": {
            "text/plain": [
              "<Figure size 640x480 with 1 Axes>"
            ],
            "image/png": "[encoded data removed]"
          },
          "metadata": {}
        }
      ]
    },
    {
      "cell_type": "markdown",
      "source": [
        "### Noise Applied to Weights"
      ],
      "metadata": {
        "id": "KnIyXZV446t3"
      }
    },
    {
      "cell_type": "code",
      "source": [
        "exclude_columns = ['school', 'rank']  # Columns to exclude from normalization\n",
        "ground_truth_top_20 = normalize_df(clean_2020_df, exclude_columns)\n",
        "\n",
        "original_weights = {\n",
        "    'peer_score': 0.2,\n",
        "    'graduation_retention_rank': 0.22,\n",
        "    'social_mobility_rank': 0.05,\n",
        "    'faculty_resources_rank': 0.2,\n",
        "    'graduation_diff': 0.08,\n",
        "    'test_scores': 0.075,                # this and one below account for 'Student Excellence (10%)'\n",
        "    'accomplished_freshman': 0.025,\n",
        "    'financial_resources_rank': 0.1,\n",
        "    'alum_giving_rate': 0.05,\n",
        "}"
      ],
      "metadata": {
        "id": "YmRaQWRY5OnX"
      },
      "execution_count": 60,
      "outputs": []
    },
    {
      "cell_type": "code",
      "source": [
        "def make_noisy_weights(og_weights, noise_scale_factor=0.1):\n",
        "    noisy_weights = {}\n",
        "    for key, weight in og_weights.items():\n",
        "        new_weight = np.random.normal(weight, noise_scale_factor * weight)\n",
        "        noisy_weights[key] = new_weight\n",
        "    total_weight = sum(noisy_weights.values())\n",
        "    for col in noisy_weights:\n",
        "        noisy_weights[col] /= total_weight\n",
        "    return noisy_weights\n",
        "\n",
        "# noisyW = make_noisy_weights(original_weights, 0.1)\n",
        "# print(original_weights)\n",
        "# print(noisyW)\n",
        "\n",
        "# print(sum(original_weights.values()))\n",
        "# print(sum(noisyW.values()))"
      ],
      "metadata": {
        "id": "2qQwuVefOtEz"
      },
      "execution_count": 61,
      "outputs": []
    },
    {
      "cell_type": "code",
      "source": [
        "import pandas as pd\n",
        "\n",
        "def calculate_rank_difference(df, df_true):\n",
        "    # Ensure rank columns are not already present to avoid issues\n",
        "    df = df.copy()\n",
        "    df_true = df_true.copy()\n",
        "\n",
        "    if 'Rank_df' in df.columns:\n",
        "        df = df.drop(columns=['Rank_df'])\n",
        "    if 'Rank_df_true' in df_true.columns:\n",
        "        df_true = df_true.drop(columns=['Rank_df_true'])\n",
        "\n",
        "    # Create a ranking column based on the row index\n",
        "    df['Rank_df'] = df.index + 1\n",
        "    df_true['Rank_df_true'] = df_true.index + 1\n",
        "\n",
        "    # # Display for debugging\n",
        "    # print(\"df with Rank_df column:\")\n",
        "    # display(df)\n",
        "    # print(\"df_true with Rank_df_true column:\")\n",
        "    # display(df_true)\n",
        "\n",
        "    # Merge the two dataframes on the school column\n",
        "    merged_df = df.merge(df_true, on='school', suffixes=('_df', '_df_true'))\n",
        "\n",
        "    # # Display for debugging\n",
        "    # print(\"Merged DataFrame:\")\n",
        "    # display(merged_df)\n",
        "\n",
        "    # Calculate the rank difference\n",
        "    merged_df['rank_difference'] = merged_df['Rank_df_true'] - merged_df['Rank_df']\n",
        "\n",
        "    # Return the resulting dataframe with school and rank difference\n",
        "    result_df = merged_df[['school', 'rank_difference']]\n",
        "    return result_df\n",
        "\n",
        "# Example usage:\n",
        "# ground_truth_top_20 = pd.DataFrame({\n",
        "#     'school': ['School A', 'School B', 'School C', 'School D'],\n",
        "#     'rank': [1, 2, 3, 4]\n",
        "# })\n",
        "\n",
        "# Simulate the noisy DataFrame by sorting ground_truth_top_20 in descending order\n",
        "# noisy_df = ground_truth_top_20.sort_values(by='rank', ascending=False).reset_index(drop=True)\n",
        "\n",
        "# result = calculate_rank_difference(noisy_df, ground_truth_top_20)\n",
        "# print(\"Result DataFrame with rank differences:\")\n",
        "# print(result)\n"
      ],
      "metadata": {
        "id": "oIBx6Npo46t3"
      },
      "execution_count": 62,
      "outputs": []
    },
    {
      "cell_type": "code",
      "source": [
        "def calc_movement_with_noisy_weights(df, noise_scale_factor, num_iters=10):\n",
        "    running_diff_df = pd.DataFrame(df['school'])\n",
        "    running_diff_df['running_diff'] = 0\n",
        "\n",
        "    for _ in range(num_iters):\n",
        "\n",
        "        new_weights = make_noisy_weights(original_weights, noise_scale_factor)\n",
        "\n",
        "        # score the data w/ noisy weights and sort by this score descending\n",
        "        noisy_df = score_dataset(df, new_weights).sort_values(by='new_score', ascending=False).reset_index(drop=True)\n",
        "\n",
        "        # Score the ground truth data and sort by this score descending\n",
        "        ground = score_dataset(ground_truth_top_20, original_weights).sort_values(by='new_score', ascending=False).reset_index(drop=True)\n",
        "\n",
        "        # Calculate how many spots each school moved\n",
        "        rank_diff_df = calculate_rank_difference(noisy_df, ground)\n",
        "\n",
        "        # Add the rank differences to the running_diff_df\n",
        "        running_diff_df = running_diff_df.merge(rank_diff_df, on='school', how='left')\n",
        "        running_diff_df['rank_difference'] = running_diff_df['rank_difference'].fillna(0)\n",
        "        running_diff_df['running_diff'] += running_diff_df['rank_difference']\n",
        "\n",
        "        # Drop the 'rank_difference' column for the next iteration\n",
        "        running_diff_df = running_diff_df.drop(columns=['rank_difference'])\n",
        "\n",
        "    running_diff_df['running_diff'] /= num_iters\n",
        "    # print(running_diff_df)\n",
        "    return running_diff_df\n"
      ],
      "metadata": {
        "id": "zIgJ_Nn746uB"
      },
      "execution_count": 63,
      "outputs": []
    },
    {
      "cell_type": "code",
      "source": [
        "# from scipy.stats import norm\n",
        "# import matplotlib.pyplot as plt\n",
        "\n",
        "# def calculate_distribution(running_diff_df, plot=False):\n",
        "#     # Fit a normal distribution to the running_diff data\n",
        "#     running_diff = running_diff_df['running_diff']\n",
        "#     mu, std = norm.fit(running_diff)\n",
        "\n",
        "#     print(f\"Mean of movements: {mu}\")\n",
        "#     print(f\"Standard deviation of movements: {std}\")\n",
        "\n",
        "#     if plot:\n",
        "#         # Plot the histogram of the data\n",
        "#         plt.hist(running_diff, bins=30, density=True, alpha=0.6, color='g')\n",
        "\n",
        "#         # Plot the PDF of the fitted normal distribution\n",
        "#         xmin, xmax = plt.xlim()\n",
        "#         x = np.linspace(xmin, xmax, 100)\n",
        "#         p = norm.pdf(x, mu, std)\n",
        "#         plt.plot(x, p, 'k', linewidth=2)\n",
        "#         title = \"Fit results: mu = %.2f,  std = %.2f\" % (mu, std)\n",
        "#         plt.title(title)\n",
        "\n",
        "#         plt.show()\n",
        "\n",
        "#     return mu, std\n"
      ],
      "metadata": {
        "id": "_ZRqsK2d46uC"
      },
      "execution_count": 64,
      "outputs": []
    },
    {
      "cell_type": "code",
      "source": [
        "result_moves_df1 = calc_movement_with_noisy_weights(ground_truth_top_20, 0.10, 10)\n",
        "mean, std_dev = calculate_distribution(result_moves_df1, True)\n",
        "\n",
        "# result_moves_df2 = calc_movement_with_noisy_weights(ground_truth_top_20, 0.20, 1000)\n",
        "# mean, std_dev = calculate_distribution(result_moves_df2, True)"
      ],
      "metadata": {
        "colab": {
          "base_uri": "https://localhost:8080/",
          "height": 488
        },
        "outputId": "b3538c44-0a33-4844-949c-2632ca276487",
        "id": "cunCj3NF46uC"
      },
      "execution_count": 65,
      "outputs": [
        {
          "output_type": "stream",
          "name": "stdout",
          "text": [
            "Mean of movements: 0.0\n",
            "Standard deviation of movements: 1.5144735511016034\n"
          ]
        },
        {
          "output_type": "display_data",
          "data": {
            "text/plain": [
              "<Figure size 640x480 with 1 Axes>"
            ],
            "image/png": "[encoded data removed]"
          },
          "metadata": {}
        }
      ]
    }
  ]
}